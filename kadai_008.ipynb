{
  "nbformat": 4,
  "nbformat_minor": 0,
  "metadata": {
    "colab": {
      "provenance": []
    },
    "kernelspec": {
      "name": "python3",
      "display_name": "Python 3"
    },
    "language_info": {
      "name": "python"
    }
  },
  "cells": [
    {
      "cell_type": "code",
      "execution_count": 8,
      "metadata": {
        "colab": {
          "base_uri": "https://localhost:8080/"
        },
        "id": "q5ywkpWXFRC2",
        "outputId": "8e0727e8-0ef2-4955-b188-502c10483141"
      },
      "outputs": [
        {
          "output_type": "stream",
          "name": "stdout",
          "text": [
            "FizzBuzz\n"
          ]
        }
      ],
      "source": [
        "var = 30\n",
        "\n",
        "if var%3 == 0 and var%5 == 0:\n",
        "    print(\"FizzBuzz\")\n",
        "elif var%3 == 0:\n",
        "    print(\"Fizz\")\n",
        "elif var%5 == 0:\n",
        "    print(\"Buzz\")\n",
        "else:\n",
        "    print(var)\n"
      ]
    },
    {
      "cell_type": "code",
      "source": [],
      "metadata": {
        "id": "UfHGxGdoF4xl"
      },
      "execution_count": null,
      "outputs": []
    }
  ]
}