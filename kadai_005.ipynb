{
  "nbformat": 4,
  "nbformat_minor": 0,
  "metadata": {
    "colab": {
      "provenance": []
    },
    "kernelspec": {
      "name": "python3",
      "display_name": "Python 3"
    },
    "language_info": {
      "name": "python"
    }
  },
  "cells": [
    {
      "cell_type": "code",
      "execution_count": 7,
      "metadata": {
        "colab": {
          "base_uri": "https://localhost:8080/"
        },
        "id": "n0gB9hAZxwea",
        "outputId": "edda1c3f-55db-4bee-8efd-01fe8d26e0c4"
      },
      "outputs": [
        {
          "output_type": "stream",
          "name": "stdout",
          "text": [
            "75.0cm²\n"
          ]
        }
      ],
      "source": [
        "zyou_hen   = 10\n",
        "ka_hen  = 20\n",
        "taka_sa = 5\n",
        "\n",
        "print(str((zyou_hen + ka_hen)*taka_sa/2)+\"cm²\")"
      ]
    }
  ]
}