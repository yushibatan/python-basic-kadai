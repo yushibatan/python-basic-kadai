{
  "nbformat": 4,
  "nbformat_minor": 0,
  "metadata": {
    "colab": {
      "provenance": []
    },
    "kernelspec": {
      "name": "python3",
      "display_name": "Python 3"
    },
    "language_info": {
      "name": "python"
    }
  },
  "cells": [
    {
      "cell_type": "code",
      "execution_count": 8,
      "metadata": {
        "colab": {
          "base_uri": "https://localhost:8080/"
        },
        "id": "n0gB9hAZxwea",
        "outputId": "f6f7e061-be13-4435-a8f1-e04a047cd10f"
      },
      "outputs": [
        {
          "output_type": "stream",
          "name": "stdout",
          "text": [
            "75.0cm²\n"
          ]
        }
      ],
      "source": [
        "zyou_hen   = 10\n",
        "ka_hen  = 20\n",
        "taka_sa = 5\n",
        "men_seki = (zyou_hen + ka_hen)*taka_sa/2\n",
        "\n",
        "print(str(men_seki)+\"cm²\")"
      ]
    },
    {
      "cell_type": "code",
      "source": [],
      "metadata": {
        "id": "ks5ydAP-_BWf"
      },
      "execution_count": null,
      "outputs": []
    }
  ]
}