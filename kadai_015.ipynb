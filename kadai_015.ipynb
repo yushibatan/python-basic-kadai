{
  "nbformat": 4,
  "nbformat_minor": 0,
  "metadata": {
    "colab": {
      "provenance": []
    },
    "kernelspec": {
      "name": "python3",
      "display_name": "Python 3"
    },
    "language_info": {
      "name": "python"
    }
  },
  "cells": [
    {
      "cell_type": "code",
      "execution_count": 10,
      "metadata": {
        "colab": {
          "base_uri": "https://localhost:8080/"
        },
        "id": "VuYV-kaG3-Ve",
        "outputId": "ad5bf332-4c1d-41bb-b6cc-afe1e565c191"
      },
      "outputs": [
        {
          "output_type": "stream",
          "name": "stdout",
          "text": [
            "侍太郎\n",
            "36\n"
          ]
        }
      ],
      "source": [
        "class Human:\n",
        "\n",
        "    def __init__(self):\n",
        "        self.name = \"\"\n",
        "\n",
        "    def set_name(self, name):\n",
        "        self.name = name\n",
        "\n",
        "    def set_age(self, age):\n",
        "        self.age = age\n",
        "\n",
        "    def printinfo(self):\n",
        "        print(self.name)\n",
        "        print(self.age)\n",
        "\n",
        "  # インスタンス化する\n",
        "human = Human()\n",
        "\n",
        "human.set_name(\"侍太郎\")\n",
        "human.set_age(36)\n",
        "human.printinfo()\n",
        "\n"
      ]
    },
    {
      "cell_type": "code",
      "source": [],
      "metadata": {
        "id": "R9JhJ8Cs4nNC"
      },
      "execution_count": null,
      "outputs": []
    }
  ]
}