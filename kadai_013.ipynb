{
  "nbformat": 4,
  "nbformat_minor": 0,
  "metadata": {
    "colab": {
      "provenance": []
    },
    "kernelspec": {
      "name": "python3",
      "display_name": "Python 3"
    },
    "language_info": {
      "name": "python"
    }
  },
  "cells": [
    {
      "cell_type": "code",
      "execution_count": 3,
      "metadata": {
        "colab": {
          "base_uri": "https://localhost:8080/"
        },
        "id": "H68993l8te96",
        "outputId": "0016f174-7b6e-4848-f080-67759b1a286a"
      },
      "outputs": [
        {
          "output_type": "stream",
          "name": "stdout",
          "text": [
            "1320円\n"
          ]
        }
      ],
      "source": [
        "def add_two_arguments(price, shipping_fee):\n",
        "    # 与えられた引数priceと引数shipping_feeを加算し、変数totalに代入する\n",
        "    total = price + shipping_fee\n",
        "\n",
        "    # 変数$totalの値を出力する\n",
        "    print(f\"{total}円\")\n",
        "\n",
        "# 関数を呼び出し、引数として購入金額と送料を渡す\n",
        "add_two_arguments(1200, 120)"
      ]
    },
    {
      "cell_type": "code",
      "source": [],
      "metadata": {
        "id": "_gOk70ont3pB"
      },
      "execution_count": null,
      "outputs": []
    }
  ]
}