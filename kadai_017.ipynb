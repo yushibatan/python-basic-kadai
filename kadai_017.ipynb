{
  "nbformat": 4,
  "nbformat_minor": 0,
  "metadata": {
    "colab": {
      "provenance": []
    },
    "kernelspec": {
      "name": "python3",
      "display_name": "Python 3"
    },
    "language_info": {
      "name": "python"
    }
  },
  "cells": [
    {
      "cell_type": "code",
      "execution_count": 9,
      "metadata": {
        "colab": {
          "base_uri": "https://localhost:8080/"
        },
        "id": "g-fMrIWzwr87",
        "outputId": "61ea9f50-c03e-4839-b510-33c90231315c"
      },
      "outputs": [
        {
          "output_type": "stream",
          "name": "stdout",
          "text": [
            "Aは未成年です\n",
            "Bは未成年です\n",
            "Cは大人です\n",
            "Dは大人です\n",
            "Eは大人です\n"
          ]
        }
      ],
      "source": [
        "class Human:\n",
        "\n",
        "    def __init__(self, name, age):\n",
        "  #　属性の定義\n",
        "        self.name = name\n",
        "        self.age = age\n",
        "\n",
        "    def check_adult(self):\n",
        "      if self.age >= 20:\n",
        "        print(\"{}は大人です\".format(self.name))\n",
        "      else :\n",
        "        print(\"{}は未成年です\".format(self.name))\n",
        "\n",
        "  # インスタンス化する\n",
        "data = [[\"A\", 5],[\"B\", 15],[\"C\", 25],[\"D\", 35],[\"E\", 45]]\n",
        "\n",
        "human_list = []\n",
        "for d in data:\n",
        "    human_list.append((d[0],d[1]))\n",
        "\n",
        "for h in human_list:\n",
        "  Human(h[0],h[1]).check_adult()"
      ]
    },
    {
      "cell_type": "code",
      "source": [],
      "metadata": {
        "id": "zQA6Wp8Fx6rf"
      },
      "execution_count": null,
      "outputs": []
    }
  ]
}